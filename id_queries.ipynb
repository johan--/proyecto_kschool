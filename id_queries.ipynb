{
 "cells": [
  {
   "cell_type": "code",
   "execution_count": 1,
   "metadata": {
    "collapsed": true
   },
   "outputs": [],
   "source": [
    "import requests\n",
    "import json\n",
    "import pandas as pd\n",
    "import numpy as np\n",
    "import time"
   ]
  },
  {
   "cell_type": "code",
   "execution_count": 2,
   "metadata": {
    "collapsed": true
   },
   "outputs": [],
   "source": [
    "def get_new_key(login_name, login_password):\n",
    "    login_request_URL = r\"https://newapi.brandwatch.com/oauth/token\"\n",
    "    request_string = login_request_URL + \"?username=\" + login_name + \"&password=\" + login_password + r\"&grant_type=api-password&client_id=brandwatch-api-client\"\n",
    "    response = requests.post(request_string)\n",
    "    print (response.status_code)\n",
    "    if response.status_code == 200:\n",
    "        print (\"Acquire  key: success\")\n",
    "    else:\n",
    "        print \"Something went wrong\"\n",
    "        print response.status_code\n",
    "        print response.text\n",
    "    response_codes = json.loads(response.text)\n",
    "    access_token = response_codes['access_token']\n",
    "    return access_token"
   ]
  },
  {
   "cell_type": "code",
   "execution_count": 3,
   "metadata": {
    "collapsed": false
   },
   "outputs": [
    {
     "name": "stdout",
     "output_type": "stream",
     "text": [
      "200\n",
      "Acquire  key: success\n"
     ]
    }
   ],
   "source": [
    "access_token = get_new_key('leda.duelo@gmail.com', 'O1ivar_1Bra')"
   ]
  },
  {
   "cell_type": "code",
   "execution_count": 4,
   "metadata": {
    "collapsed": true
   },
   "outputs": [],
   "source": [
    "def get_query_id(project_id,access_token):\n",
    "\trequest_URL = \"https://newapi.brandwatch.com/projects/\" + str(project_id) + \"/queries/summary?access_token=\" + access_token\n",
    "\tresponse = requests.get(request_URL)\n",
    "\tif response.status_code == 200:\n",
    "\t\tprint (\"Get query ID: success\")\n",
    "\tproject_json = json.loads(response.text)\n",
    "\tproject_summary = pd.DataFrame(project_json['results'])\n",
    "\tprint project_summary[['name','type','id']]\n",
    "\treturn project_summary\t"
   ]
  },
  {
   "cell_type": "code",
   "execution_count": 5,
   "metadata": {
    "collapsed": false
   },
   "outputs": [
    {
     "name": "stdout",
     "output_type": "stream",
     "text": [
      "Get query ID: success\n",
      "             name           type          id\n",
      "0          garzon  search string  1998640234\n",
      "1    upodemos_man  search string  1998639922\n",
      "2  ciudadanos_man  search string  1998639919\n",
      "3        psoe_man  search string  1998639912\n",
      "4          pp_man  search string  1998639906\n",
      "5          psoe_w  search string  1998639905\n",
      "6            pp_w  search string  1998639897\n",
      "7    ciudadanos_w  search string  1998639853\n",
      "8      upodemos_w  search string  1998639844\n"
     ]
    },
    {
     "data": {
      "text/html": [
       "<div>\n",
       "<table border=\"1\" class=\"dataframe\">\n",
       "  <thead>\n",
       "    <tr style=\"text-align: right;\">\n",
       "      <th></th>\n",
       "      <th>createdByWizard</th>\n",
       "      <th>creationDate</th>\n",
       "      <th>id</th>\n",
       "      <th>lastModificationDate</th>\n",
       "      <th>lastModifiedUsername</th>\n",
       "      <th>lockedByUsername</th>\n",
       "      <th>lockedQuery</th>\n",
       "      <th>name</th>\n",
       "      <th>type</th>\n",
       "    </tr>\n",
       "  </thead>\n",
       "  <tbody>\n",
       "    <tr>\n",
       "      <th>0</th>\n",
       "      <td>False</td>\n",
       "      <td>2016-06-07T17:54:49.012+0000</td>\n",
       "      <td>1998640234</td>\n",
       "      <td>2016-06-07T18:02:16.503+0000</td>\n",
       "      <td>leda.duelo@gmail.com</td>\n",
       "      <td>None</td>\n",
       "      <td>False</td>\n",
       "      <td>garzon</td>\n",
       "      <td>search string</td>\n",
       "    </tr>\n",
       "    <tr>\n",
       "      <th>1</th>\n",
       "      <td>False</td>\n",
       "      <td>2016-06-07T13:53:00.787+0000</td>\n",
       "      <td>1998639922</td>\n",
       "      <td>2016-06-07T13:53:00.791+0000</td>\n",
       "      <td>leda.duelo@gmail.com</td>\n",
       "      <td>None</td>\n",
       "      <td>False</td>\n",
       "      <td>upodemos_man</td>\n",
       "      <td>search string</td>\n",
       "    </tr>\n",
       "    <tr>\n",
       "      <th>2</th>\n",
       "      <td>False</td>\n",
       "      <td>2016-06-07T13:51:28.949+0000</td>\n",
       "      <td>1998639919</td>\n",
       "      <td>2016-06-07T13:51:28.957+0000</td>\n",
       "      <td>leda.duelo@gmail.com</td>\n",
       "      <td>None</td>\n",
       "      <td>False</td>\n",
       "      <td>ciudadanos_man</td>\n",
       "      <td>search string</td>\n",
       "    </tr>\n",
       "    <tr>\n",
       "      <th>3</th>\n",
       "      <td>False</td>\n",
       "      <td>2016-06-07T13:47:56.882+0000</td>\n",
       "      <td>1998639912</td>\n",
       "      <td>2016-06-07T13:47:56.887+0000</td>\n",
       "      <td>leda.duelo@gmail.com</td>\n",
       "      <td>None</td>\n",
       "      <td>False</td>\n",
       "      <td>psoe_man</td>\n",
       "      <td>search string</td>\n",
       "    </tr>\n",
       "    <tr>\n",
       "      <th>4</th>\n",
       "      <td>False</td>\n",
       "      <td>2016-06-07T13:43:54.069+0000</td>\n",
       "      <td>1998639906</td>\n",
       "      <td>2016-06-07T13:46:12.950+0000</td>\n",
       "      <td>leda.duelo@gmail.com</td>\n",
       "      <td>None</td>\n",
       "      <td>False</td>\n",
       "      <td>pp_man</td>\n",
       "      <td>search string</td>\n",
       "    </tr>\n",
       "    <tr>\n",
       "      <th>5</th>\n",
       "      <td>False</td>\n",
       "      <td>2016-06-07T13:42:25.367+0000</td>\n",
       "      <td>1998639905</td>\n",
       "      <td>2016-06-07T13:45:53.802+0000</td>\n",
       "      <td>leda.duelo@gmail.com</td>\n",
       "      <td>None</td>\n",
       "      <td>False</td>\n",
       "      <td>psoe_w</td>\n",
       "      <td>search string</td>\n",
       "    </tr>\n",
       "    <tr>\n",
       "      <th>6</th>\n",
       "      <td>False</td>\n",
       "      <td>2016-06-07T13:35:16.701+0000</td>\n",
       "      <td>1998639897</td>\n",
       "      <td>2016-06-07T13:45:48.173+0000</td>\n",
       "      <td>leda.duelo@gmail.com</td>\n",
       "      <td>None</td>\n",
       "      <td>False</td>\n",
       "      <td>pp_w</td>\n",
       "      <td>search string</td>\n",
       "    </tr>\n",
       "    <tr>\n",
       "      <th>7</th>\n",
       "      <td>False</td>\n",
       "      <td>2016-06-07T13:07:24.787+0000</td>\n",
       "      <td>1998639853</td>\n",
       "      <td>2016-06-07T13:45:41.605+0000</td>\n",
       "      <td>leda.duelo@gmail.com</td>\n",
       "      <td>None</td>\n",
       "      <td>False</td>\n",
       "      <td>ciudadanos_w</td>\n",
       "      <td>search string</td>\n",
       "    </tr>\n",
       "    <tr>\n",
       "      <th>8</th>\n",
       "      <td>False</td>\n",
       "      <td>2016-06-07T12:57:50.799+0000</td>\n",
       "      <td>1998639844</td>\n",
       "      <td>2016-06-07T13:45:59.498+0000</td>\n",
       "      <td>leda.duelo@gmail.com</td>\n",
       "      <td>None</td>\n",
       "      <td>False</td>\n",
       "      <td>upodemos_w</td>\n",
       "      <td>search string</td>\n",
       "    </tr>\n",
       "  </tbody>\n",
       "</table>\n",
       "</div>"
      ],
      "text/plain": [
       "  createdByWizard                  creationDate          id  \\\n",
       "0           False  2016-06-07T17:54:49.012+0000  1998640234   \n",
       "1           False  2016-06-07T13:53:00.787+0000  1998639922   \n",
       "2           False  2016-06-07T13:51:28.949+0000  1998639919   \n",
       "3           False  2016-06-07T13:47:56.882+0000  1998639912   \n",
       "4           False  2016-06-07T13:43:54.069+0000  1998639906   \n",
       "5           False  2016-06-07T13:42:25.367+0000  1998639905   \n",
       "6           False  2016-06-07T13:35:16.701+0000  1998639897   \n",
       "7           False  2016-06-07T13:07:24.787+0000  1998639853   \n",
       "8           False  2016-06-07T12:57:50.799+0000  1998639844   \n",
       "\n",
       "           lastModificationDate  lastModifiedUsername lockedByUsername  \\\n",
       "0  2016-06-07T18:02:16.503+0000  leda.duelo@gmail.com             None   \n",
       "1  2016-06-07T13:53:00.791+0000  leda.duelo@gmail.com             None   \n",
       "2  2016-06-07T13:51:28.957+0000  leda.duelo@gmail.com             None   \n",
       "3  2016-06-07T13:47:56.887+0000  leda.duelo@gmail.com             None   \n",
       "4  2016-06-07T13:46:12.950+0000  leda.duelo@gmail.com             None   \n",
       "5  2016-06-07T13:45:53.802+0000  leda.duelo@gmail.com             None   \n",
       "6  2016-06-07T13:45:48.173+0000  leda.duelo@gmail.com             None   \n",
       "7  2016-06-07T13:45:41.605+0000  leda.duelo@gmail.com             None   \n",
       "8  2016-06-07T13:45:59.498+0000  leda.duelo@gmail.com             None   \n",
       "\n",
       "  lockedQuery            name           type  \n",
       "0       False          garzon  search string  \n",
       "1       False    upodemos_man  search string  \n",
       "2       False  ciudadanos_man  search string  \n",
       "3       False        psoe_man  search string  \n",
       "4       False          pp_man  search string  \n",
       "5       False          psoe_w  search string  \n",
       "6       False            pp_w  search string  \n",
       "7       False    ciudadanos_w  search string  \n",
       "8       False      upodemos_w  search string  "
      ]
     },
     "execution_count": 5,
     "metadata": {},
     "output_type": "execute_result"
    }
   ],
   "source": [
    "get_query_id('1998195275',access_token)"
   ]
  },
  {
   "cell_type": "code",
   "execution_count": null,
   "metadata": {
    "collapsed": true
   },
   "outputs": [],
   "source": []
  }
 ],
 "metadata": {
  "kernelspec": {
   "display_name": "Python 2",
   "language": "python",
   "name": "python2"
  },
  "language_info": {
   "codemirror_mode": {
    "name": "ipython",
    "version": 2
   },
   "file_extension": ".py",
   "mimetype": "text/x-python",
   "name": "python",
   "nbconvert_exporter": "python",
   "pygments_lexer": "ipython2",
   "version": "2.7.10"
  }
 },
 "nbformat": 4,
 "nbformat_minor": 0
}
